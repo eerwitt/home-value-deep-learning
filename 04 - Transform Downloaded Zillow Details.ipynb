{
 "cells": [
  {
   "cell_type": "markdown",
   "metadata": {},
   "source": [
    "# Transform Downloaded Zillow Details\n",
    "\n",
    "We expect the downloaded information to be a bunch of image URLs with their corresponding details downloaded earlier. This format needs to be translated into a format which can be used for further categorization or straight into Caffe."
   ]
  },
  {
   "cell_type": "code",
   "execution_count": 17,
   "metadata": {
    "collapsed": true
   },
   "outputs": [],
   "source": [
    "from collections import namedtuple\n",
    "\n",
    "import json\n",
    "import glob\n",
    "import csv"
   ]
  },
  {
   "cell_type": "code",
   "execution_count": 18,
   "metadata": {
    "collapsed": true
   },
   "outputs": [],
   "source": [
    "Result = namedtuple(\"Result\", [\"guid\", \"image_url\", \"price\"])"
   ]
  },
  {
   "cell_type": "code",
   "execution_count": 19,
   "metadata": {
    "collapsed": true
   },
   "outputs": [],
   "source": [
    "def parse_image_detail_files(image_detail_files=\"./details/*.json\"):\n",
    "    \"\"\"\n",
    "    Parse the image detail json files.\n",
    "    \n",
    "    Parameters\n",
    "    ----------\n",
    "    image_details : str\n",
    "        Glob pattern to search for Zillow detail pages for images.\n",
    "        \n",
    "    Yields\n",
    "    ------\n",
    "    Result\n",
    "        Each Zillow result from the different Zillow files.\n",
    "    \"\"\"\n",
    "    for image_detail_filename in glob.glob(image_detail_files):\n",
    "        raw_results = None\n",
    "        with open(image_detail_filename, \"r\") as image_detail_file:\n",
    "            raw_results = json.load(image_detail_file)[\"results\"]\n",
    "\n",
    "        results = map(lambda r: Result(*r), raw_results)\n",
    "        for result in results:\n",
    "            yield result"
   ]
  },
  {
   "cell_type": "code",
   "execution_count": 20,
   "metadata": {
    "collapsed": true
   },
   "outputs": [],
   "source": [
    "def mturk_variables(output_filename, parser=parse_image_detail_files):\n",
    "    \"\"\"\n",
    "    Write a list of images as a file full of variables for mturk to create as\n",
    "    separate HITs.\n",
    "\n",
    "    The details are from the script to get a set of images from Zillow, when the\n",
    "    script runs it downloads the JSON for that listing including image URLs.\n",
    "\n",
    "    Paramters\n",
    "    ---------\n",
    "    output_filename : str\n",
    "        File to be used by mturk, in TSV format.\n",
    "    parser : function\n",
    "        Function which yields one Result as it goes.\n",
    "    \"\"\"\n",
    "    with open(output_filename, \"w\") as images_file:\n",
    "        writer = csv.DictWriter(\n",
    "            images_file,\n",
    "            delimiter=\"\\t\",\n",
    "            fieldnames=[\"id\", \"url\"])\n",
    "        writer.writeheader()\n",
    "\n",
    "        for result in parser():\n",
    "            writer.writerow({\n",
    "                \"id\": result.guid,\n",
    "                \"url\": result.image_url})"
   ]
  },
  {
   "cell_type": "code",
   "execution_count": 21,
   "metadata": {
    "collapsed": true
   },
   "outputs": [],
   "source": [
    "def web_categorization(output_filename, parser=parse_image_detail_files):\n",
    "    \"\"\"\n",
    "    Write a TSV which can be used with the webapp's `python manage.py import_uncategorized_images` command.\n",
    "    \n",
    "    Parameters\n",
    "    ----------\n",
    "    output_filename : str\n",
    "        Location to write the TSV, the webapp will need access to it at least once.\n",
    "    parser : function\n",
    "        Function which yields one Result as it goes.\n",
    "        \n",
    "    Notes\n",
    "    -----\n",
    "    This is practically the same as #mturk_variables but has changed a few times.\n",
    "    \"\"\"\n",
    "    with open(output_filename, \"w\") as images_file:\n",
    "        writer = csv.DictWriter(\n",
    "            images_file,\n",
    "            delimiter=\"\\t\",\n",
    "            fieldnames=[\"zillow_id\", \"url\"])\n",
    "        writer.writeheader()\n",
    "\n",
    "        for result in parser():\n",
    "            writer.writerow({\n",
    "                \"zillow_id\": result.guid,\n",
    "                \"url\": result.image_url})"
   ]
  },
  {
   "cell_type": "code",
   "execution_count": 22,
   "metadata": {
    "collapsed": false
   },
   "outputs": [],
   "source": [
    "mturk_variables(\"./mturk/input/images_with_ids.tsv\")"
   ]
  },
  {
   "cell_type": "code",
   "execution_count": 23,
   "metadata": {
    "collapsed": false
   },
   "outputs": [],
   "source": [
    "web_categorization(\"./categorization/uncategorized_images.tsv\")"
   ]
  }
 ],
 "metadata": {
  "kernelspec": {
   "display_name": "Python 2",
   "language": "python",
   "name": "python2"
  },
  "language_info": {
   "codemirror_mode": {
    "name": "ipython",
    "version": 2
   },
   "file_extension": ".py",
   "mimetype": "text/x-python",
   "name": "python",
   "nbconvert_exporter": "python",
   "pygments_lexer": "ipython2",
   "version": "2.7.6"
  }
 },
 "nbformat": 4,
 "nbformat_minor": 0
}
