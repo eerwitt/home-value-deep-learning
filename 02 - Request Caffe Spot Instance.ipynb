{
 "cells": [
  {
   "cell_type": "markdown",
   "metadata": {},
   "source": [
    "# Request Caffe Spot Instance\n",
    "\n",
    "We now have a good idea of how much it will cost to run a GPU based spot instance so we start one based on an AMI which includes a setup Cafe install.\n",
    "\n",
    "If you prefer not to use the AMI, getting Cafe to run on EC2 can be a challenge and requires recompiling the kernel to support additonal GPU drivers.\n",
    "\n",
    "## References\n",
    "\n",
    "* [EC2 AMI with Caffe and Torch](http://blog.titocosta.com/post/110345699197/public-ec2-ami-with-torch-and-caffe-deep-learning)\n",
    "* [Making Ubuntu EC2 Instance run Caffe (**see above**)](https://github.com/BVLC/caffe/wiki/Ubuntu-14.04-ec2-instance)\n",
    "* [Use Ansible as a Library](http://oriolrius.cat/blog/2015/01/21/using-ansible-like-library-programming-in-python/)\n",
    "* [Synchronize Ansible](http://docs.ansible.com/ansible/synchronize_module.html)"
   ]
  },
  {
   "cell_type": "code",
   "execution_count": 1,
   "metadata": {
    "collapsed": true
   },
   "outputs": [],
   "source": [
    "# A logger to keep from a bunch of print statements :/\n",
    "import logging\n",
    "logger = logging.getLogger(\"Request Caffe Spot Instance\")\n",
    "logger.setLevel(logging.DEBUG)"
   ]
  },
  {
   "cell_type": "code",
   "execution_count": 2,
   "metadata": {
    "collapsed": false
   },
   "outputs": [],
   "source": [
    "# Request a Spot Instance, this doesn't guarantee we will get one though.\n",
    "import boto.ec2\n",
    "import time\n",
    "\n",
    "# NOTE the AMI used in \"EC2 AMI with Caffe and Torch\" is only available in the us-east region.\n",
    "# I made copies of that AMI and placed the copies in each public region, this maps the regions\n",
    "# to their AMIs.\n",
    "REGION_AMIS = {\n",
    "    \"ap-northeast-1\": \"ami-b270eab2\",\n",
    "    \"ap-southeast-1\": \"ami-e26372b0\",\n",
    "    \"ap-southeast-2\": \"ami-5fc88065\",\n",
    "    \"eu-central-1\": \"ami-b6666bab\",\n",
    "    \"eu-west-1\": \"ami-f1526486\",\n",
    "    \"sa-east-1\": \"ami-81f86e9c\",\n",
    "    \"us-east-1\": \"ami-35622e50\",\n",
    "    \"us-west-1\": \"ami-918b4ad5\",\n",
    "    \"us-west-2\": \"ami-686a8e5b\",\n",
    "}\n",
    "\n",
    "\n",
    "# TODO, make sure your Security Group allows SSH from your IP so you can connect! Also make sure this is available in\n",
    "# all regions.\n",
    "# TODO, check your IAM Security policy\n",
    "# {\n",
    "#     \"Version\": \"2012-10-17\",\n",
    "#     \"Statement\": [\n",
    "#         {\n",
    "#           \"Sid\": \"stmt999\",\n",
    "#           \"Effect\": \"Allow\",\n",
    "#           \"Action\": [\n",
    "#               \"ec2:DescribeInstances\",\n",
    "#               \"ec2:DescribeSpotInstanceRequests\",\n",
    "#               \"ec2:RequestSpotInstances\",\n",
    "#               \"ec2:DescribeSpotPriceHistory\"\n",
    "#            ],\n",
    "#            \"Resource\": [\n",
    "#                \"*\"\n",
    "#            ]\n",
    "#        }\n",
    "#    ]\n",
    "# }\n",
    "def request_spot_instance(aws_region, price):\n",
    "    \"\"\"\n",
    "    Connect to EC2 and request a Spot Instance, this will return instantly but doesn't mean a system\n",
    "    is available.\n",
    "    \n",
    "    Paramaters\n",
    "    ----------\n",
    "    aws_region : str\n",
    "        An AWS region where your caffe instance will run.\n",
    "    price : float\n",
    "        The maximum price in USD which you will pay for this instance.\n",
    "        \n",
    "    Note\n",
    "    ----\n",
    "    THIS WILL COST YOU MONEY! BE CAREFUL.\n",
    "    \"\"\"\n",
    "    if not aws_region in REGION_AMIS.keys():\n",
    "        raise Exception(\"No AMI copied to that region: %s\" % (aws_region,))\n",
    "        \n",
    "    ec2_conn = boto.ec2.connect_to_region(\n",
    "        region_name=aws_region,\n",
    "        profile_name=\"cedarstreet\")\n",
    "    \n",
    "    ami_id = REGION_AMIS[aws_region]\n",
    "    \n",
    "    return ec2_conn.request_spot_instances(\n",
    "        price=price,  # In USD (I think)\n",
    "        image_id=ami_id,  # See \"EC2 AMI with Caffe and Torch\"\n",
    "        count=1,\n",
    "        type='one-time',  # This can also be persistent which will resubmit your price if you're outbid\n",
    "        instance_type=\"g2.2xlarge\",\n",
    "        key_name=\"erik\",  # A private key which Ansible can access as well \n",
    "        dry_run=False)  # Try with a DryRun first\n",
    "\n",
    "\n",
    "def watch_spot_instance_states(aws_region, spot_request_ids):\n",
    "    \"\"\"\n",
    "    Connect to EC2 and watch for the status updates about a given spot request. Keeps trying until\n",
    "    a state of cancelled or open is reached.\n",
    "    \n",
    "    Parameters\n",
    "    ----------\n",
    "    aws_region : str\n",
    "        AWS region where your Spot Request was created.\n",
    "    spot_request_ids : list(str)\n",
    "        List of SpotRequestIds, these are required.\n",
    "        \n",
    "    Returns\n",
    "    -------\n",
    "    spot_request : SpotRequest\n",
    "        The fulfilled SpotRequest which has an instance_id.\n",
    "        \n",
    "    Notes\n",
    "    -----\n",
    "    This will sleep for 60 seconds before testing again if an instance is ready.\n",
    "    \"\"\"\n",
    "    ec2_conn = boto.ec2.connect_to_region(\n",
    "        region_name=aws_region,\n",
    "        profile_name=\"cedarstreet\")\n",
    "    \n",
    "    while True:\n",
    "        spot_requests = ec2_conn.get_all_spot_instance_requests(request_ids=spot_request_ids)\n",
    "        try_again = False\n",
    "        \n",
    "        for spot_request in spot_requests:\n",
    "            if spot_request.state == \"cancelled\":\n",
    "                logger.error(\"Spot Request was cancelled: %s\", spot_request.id)\n",
    "                break\n",
    "\n",
    "            if spot_request.instance_id == None:\n",
    "                logger.debug(\n",
    "                    \"Instance is not ready for spot request %s with state of %s.\",\n",
    "                    spot_request.id,\n",
    "                    spot_request.state)\n",
    "                try_again = True\n",
    "            else:\n",
    "                yield spot_request\n",
    "        \n",
    "        if try_again:\n",
    "            # Wait a minute before checking again.\n",
    "            logger.debug(\"Waiting to try again.\")\n",
    "            time.sleep(60.0)\n",
    "        else:\n",
    "            break"
   ]
  },
  {
   "cell_type": "code",
   "execution_count": 4,
   "metadata": {
    "collapsed": true
   },
   "outputs": [],
   "source": [
    "def get_instance_public_ip(aws_region, instance_id):\n",
    "    \"\"\"\n",
    "    Get instance details, assuming the instance is already live in this region.\n",
    "    \n",
    "    Parameters\n",
    "    ----------\n",
    "    aws_region : str\n",
    "        AWS region where this instance is located.\n",
    "    instance_id : str\n",
    "        Instance ID which is being requested.\n",
    "        \n",
    "    Returns\n",
    "    -------\n",
    "    EC2Instance\n",
    "        An EC2 Instance with details about its current state.\n",
    "    \"\"\"\n",
    "    ec2_conn = boto.ec2.connect_to_region(\n",
    "        region_name=aws_region,\n",
    "        profile_name=\"cedarstreet\")\n",
    "    reservations = ec2_conn.get_all_reservations(instance_ids=[instance_id])\n",
    "    \n",
    "    instance = reservations[0].instances[0]\n",
    "    return instance"
   ]
  },
  {
   "cell_type": "code",
   "execution_count": 3,
   "metadata": {
    "collapsed": false
   },
   "outputs": [
    {
     "name": "stderr",
     "output_type": "stream",
     "text": [
      "DEBUG:Request Caffe Spot Instance:Started [SpotInstanceRequest:sir-021rfclm] Spot Instances\n",
      "DEBUG:Request Caffe Spot Instance:Instance is not ready for spot request sir-021rfclm with state of open.\n",
      "DEBUG:Request Caffe Spot Instance:Waiting to try again.\n",
      "DEBUG:Request Caffe Spot Instance:Instance is not ready for spot request sir-021rfclm with state of open.\n",
      "DEBUG:Request Caffe Spot Instance:Waiting to try again.\n",
      "DEBUG:Request Caffe Spot Instance:Instance is not ready for spot request sir-021rfclm with state of open.\n",
      "DEBUG:Request Caffe Spot Instance:Waiting to try again.\n"
     ]
    },
    {
     "name": "stdout",
     "output_type": "stream",
     "text": [
      "i-0c4296ae\n"
     ]
    },
    {
     "data": {
      "text/html": [
       "\n",
       "                <audio controls=\"controls\" autoplay=\"autoplay\">\n",
       "                    <source src=\"./success.wav\" type=\"audio/x-wav\" />\n",
       "                    Your browser does not support the audio element.\n",
       "                </audio>\n",
       "              "
      ],
      "text/plain": [
       "<IPython.lib.display.Audio object>"
      ]
     },
     "execution_count": 3,
     "metadata": {},
     "output_type": "execute_result"
    }
   ],
   "source": [
    "# Watch for an instance to start in the us-east region with a max price of $0.15 USD.\n",
    "# Once an instance is available, play a sound to let me know if I'm in another tab.\n",
    "from IPython.display import Audio\n",
    "\n",
    "aws_region = \"us-east-1\"\n",
    "    \n",
    "spot_instances = request_spot_instance(aws_region, 0.15)\n",
    "if len(spot_instances) > 1:\n",
    "    raise Exception(\"Too many spot instances started!\")\n",
    "\n",
    "logger.debug(\"Started %s Spot Instances\", spot_instances)\n",
    "\n",
    "instance_id = None\n",
    "for spot_request in watch_spot_instance_states(aws_region, map(lambda s: s.id, spot_instances)):\n",
    "    logger.info(\"Spot instance is ready: %s\", spot_request.instance_id)\n",
    "    instance_id = spot_request.instance_id\n",
    "\n",
    "\n",
    "Audio(url=\"./docs/sounds/success.wav\", autoplay=True)"
   ]
  },
  {
   "cell_type": "code",
   "execution_count": 15,
   "metadata": {
    "collapsed": false
   },
   "outputs": [
    {
     "data": {
      "text/plain": [
       "u'174.129.71.20'"
      ]
     },
     "execution_count": 15,
     "metadata": {},
     "output_type": "execute_result"
    }
   ],
   "source": [
    "instance = get_instance_public_ip(aws_region, instance_id)\n",
    "instance.ip_address"
   ]
  },
  {
   "cell_type": "code",
   "execution_count": 17,
   "metadata": {
    "collapsed": false
   },
   "outputs": [
    {
     "name": "stderr",
     "output_type": "stream",
     "text": [
      "DEBUG:Request Caffe Spot Instance:Output from command: .d..t.... scripts/\n",
      "<f.st.... scripts/caffe_python.sh\n",
      "<f.st.... scripts/convert_protomean.py\n",
      "<f.st.... scripts/create_lmbd.sh\n",
      "<f.st.... scripts/install_packages.sh\n",
      "<f.st.... scripts/make_mean.sh\n",
      "<f.st.... scripts/resume_training.sh\n",
      "<f.st.... scripts/run_all.sh\n",
      "<f.st.... scripts/train.sh\n"
     ]
    }
   ],
   "source": [
    "# Now that the instance is running, let's sync some scripts to it which aren't included in the AMI.\n",
    "import ansible.runner\n",
    "import ansible.inventory\n",
    "\n",
    "hosts = [instance.ip_address]\n",
    "\n",
    "inventory = ansible.inventory.Inventory(hosts)\n",
    "ansible_runner = ansible.runner.Runner(\n",
    "    module_name='synchronize',\n",
    "    module_args='src=scripts dest=./',\n",
    "    timeout=5,\n",
    "    inventory=inventory,\n",
    "    remote_user=\"ubuntu\"\n",
    ")\n",
    "\n",
    "out = ansible_runner.run()\n",
    "if not out[\"contacted\"].get(instance.ip_address, None):\n",
    "    raise Exception(\"No response information from instance :/\")\n",
    "else:\n",
    "    logger.debug(\"Output from command: %s\", \"\\n\".join(out[\"contacted\"][instance.ip_address][\"stdout_lines\"]))"
   ]
  },
  {
   "cell_type": "code",
   "execution_count": null,
   "metadata": {
    "collapsed": true
   },
   "outputs": [],
   "source": []
  }
 ],
 "metadata": {
  "kernelspec": {
   "display_name": "Python 2",
   "language": "python",
   "name": "python2"
  },
  "language_info": {
   "codemirror_mode": {
    "name": "ipython",
    "version": 2
   },
   "file_extension": ".py",
   "mimetype": "text/x-python",
   "name": "python",
   "nbconvert_exporter": "python",
   "pygments_lexer": "ipython2",
   "version": "2.7.6"
  }
 },
 "nbformat": 4,
 "nbformat_minor": 0
}
